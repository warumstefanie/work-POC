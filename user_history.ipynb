{
 "cells": [
  {
   "cell_type": "markdown",
   "id": "3903651f-204e-445f-bd9c-66a530af5f3a",
   "metadata": {},
   "source": [
    "# User History\n",
    "\n",
    "Author: Stefanie Warum"
   ]
  },
  {
   "cell_type": "code",
   "execution_count": 1,
   "id": "3303b8d0-8143-42e6-8207-d3a446dfc23f",
   "metadata": {},
   "outputs": [],
   "source": [
    "import os\n",
    "from openai import OpenAI\n",
    "import numpy as np\n",
    "from sklearn.manifold import TSNE\n",
    "from scipy.spatial import distance\n",
    "from functions import create_embeddings, find_n_closest, create_product_text, recommend_products\n",
    "\n",
    "# Define the model to use\n",
    "model = \"gpt-4-turbo\"\n",
    "client = OpenAI(api_key=os.environ[\"OPENAI\"])"
   ]
  },
  {
   "cell_type": "code",
   "execution_count": 2,
   "id": "d612dfd7-604c-4da6-bdc7-c9b372cb57b3",
   "metadata": {},
   "outputs": [],
   "source": [
    "# Import file with products\n",
    "from products import products # List of all products\n",
    "from user_history import user_history # User purchase history (five products)\n",
    "from user_history2 import user_history2 # User purchase history second example"
   ]
  },
  {
   "cell_type": "code",
   "execution_count": 3,
   "id": "38bd3990-710f-440a-9ef1-70e9f1544be6",
   "metadata": {},
   "outputs": [
    {
     "name": "stdout",
     "output_type": "stream",
     "text": [
      "Ski Pass Alpine Valley: 65.0\n",
      "Beginner Ski Lessons: 120.0\n",
      "High-Performance Ski Set Rental: 35.0\n",
      "Snow Festival Ticket: 45.0\n",
      "Mountain Top Dining Experience: 150.0\n"
     ]
    }
   ],
   "source": [
    "# Example products\n",
    "for product in products[:5]:\n",
    "    print(f\"{product['title']}: {product['price']}\")"
   ]
  },
  {
   "cell_type": "markdown",
   "id": "a75a6d89-6f7b-4fc7-90b4-0f04a85f3930",
   "metadata": {},
   "source": [
    "## Provide recommendations based on a user's history"
   ]
  },
  {
   "cell_type": "markdown",
   "id": "be1c95fe-3d16-4090-b56a-c66db25075d5",
   "metadata": {},
   "source": [
    "Example 1 for a user with the following history:"
   ]
  },
  {
   "cell_type": "code",
   "execution_count": 4,
   "id": "21c188a1-ced8-4044-a5c1-b4c5800fdfe7",
   "metadata": {},
   "outputs": [
    {
     "name": "stdout",
     "output_type": "stream",
     "text": [
      "Mountain Top Dining Experience: 150.0\n",
      "Luxury Ski-in/Ski-out Condo: 350.0\n",
      "Snowboard Fun Lessons: 135.0\n",
      "Helicopter Skiing Adventure: 500.0\n",
      "Eco-Friendly Ski Lodge: 300.0\n"
     ]
    }
   ],
   "source": [
    "for history in user_history:\n",
    "    print(f\"{history['title']}: {history['price']}\")"
   ]
  },
  {
   "cell_type": "code",
   "execution_count": 5,
   "id": "a581fbbf-7e83-4c61-8050-bff499521e8d",
   "metadata": {},
   "outputs": [
    {
     "name": "stdout",
     "output_type": "stream",
     "text": [
      "Product: Off-Piste Ski Adventure, Distance: 0.07755440389115575\n",
      "Product: Extreme Skiing Experience, Distance: 0.07869363971292698\n",
      "Product: Sunrise Skiing Experience, Distance: 0.08136167271835248\n"
     ]
    }
   ],
   "source": [
    "# Call function to provide three recommended products from \"products\"\n",
    "recommend_products(user_history, products)"
   ]
  },
  {
   "cell_type": "markdown",
   "id": "04e878f9-3441-46f4-9a9e-2d11d34a7998",
   "metadata": {},
   "source": [
    "Example 2 for a user with the following history:"
   ]
  },
  {
   "cell_type": "code",
   "execution_count": 6,
   "id": "fe794a06-ac0e-4fa5-a901-076a84f3c58c",
   "metadata": {},
   "outputs": [
    {
     "name": "stdout",
     "output_type": "stream",
     "text": [
      "Northern Lights Tour: 200.0\n",
      "Deluxe Beachfront Villa: 450.0\n",
      "Surfing Safari: 180.0\n",
      "Yoga Retreat: 300.0\n",
      "Safari Lodge: 400.0\n"
     ]
    }
   ],
   "source": [
    "for user2 in user_history2:\n",
    "    print(f\"{user2['title']}: {user2['price']}\")"
   ]
  },
  {
   "cell_type": "code",
   "execution_count": 7,
   "id": "e53aa01f-4a79-45d9-9d03-8c858a0ac4cb",
   "metadata": {},
   "outputs": [
    {
     "name": "stdout",
     "output_type": "stream",
     "text": [
      "Product: Snowmobile Safari, Distance: 0.08609942632898882\n",
      "Product: Luxury Spa Retreat, Distance: 0.10019189934843964\n",
      "Product: Luxury Mountain Top Hotel, Distance: 0.1137944634481135\n"
     ]
    }
   ],
   "source": [
    "recommend_products(user_history2, products)"
   ]
  }
 ],
 "metadata": {
  "kernelspec": {
   "display_name": "Python 3 (ipykernel)",
   "language": "python",
   "name": "python3"
  },
  "language_info": {
   "codemirror_mode": {
    "name": "ipython",
    "version": 3
   },
   "file_extension": ".py",
   "mimetype": "text/x-python",
   "name": "python",
   "nbconvert_exporter": "python",
   "pygments_lexer": "ipython3",
   "version": "3.11.3"
  }
 },
 "nbformat": 4,
 "nbformat_minor": 5
}
