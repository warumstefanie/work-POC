{
 "cells": [
  {
   "cell_type": "markdown",
   "id": "3903651f-204e-445f-bd9c-66a530af5f3a",
   "metadata": {},
   "source": [
    "# Last Visited Product \n",
    "\n",
    "Author: Stefanie Warum"
   ]
  },
  {
   "cell_type": "code",
   "execution_count": 1,
   "id": "65e711dd-083a-4670-b31e-5968aa003be1",
   "metadata": {},
   "outputs": [],
   "source": [
    "import os\n",
    "from openai import OpenAI\n",
    "import numpy as np\n",
    "from sklearn.manifold import TSNE\n",
    "from scipy.spatial import distance\n",
    "from functions import create_embeddings, find_n_closest, create_product_text\n",
    "\n",
    "\n",
    "# Define the model to use\n",
    "model = \"gpt-4-turbo\"\n",
    "client = OpenAI(api_key=os.environ[\"OPENAI\"])"
   ]
  },
  {
   "cell_type": "code",
   "execution_count": 2,
   "id": "d612dfd7-604c-4da6-bdc7-c9b372cb57b3",
   "metadata": {},
   "outputs": [],
   "source": [
    "# Import file with products\n",
    "from products import products\n",
    "from last_product import last_product"
   ]
  },
  {
   "cell_type": "code",
   "execution_count": 3,
   "id": "38bd3990-710f-440a-9ef1-70e9f1544be6",
   "metadata": {},
   "outputs": [
    {
     "name": "stdout",
     "output_type": "stream",
     "text": [
      "Ski Pass Alpine Valley: 65.0\n",
      "Beginner Ski Lessons: 120.0\n",
      "High-Performance Ski Set Rental: 35.0\n",
      "Snow Festival Ticket: 45.0\n",
      "Mountain Top Dining Experience: 150.0\n"
     ]
    }
   ],
   "source": [
    "for product in products[:5]:\n",
    "    print(f\"{product['title']}: {product['price']}\")"
   ]
  },
  {
   "cell_type": "markdown",
   "id": "f16ea163-83b8-4ee5-8551-6fd99aa8d2b5",
   "metadata": {},
   "source": [
    "## Create recommendations for last product visited\n",
    "We want to recommend three products based on the user's last visited product."
   ]
  },
  {
   "cell_type": "code",
   "execution_count": 4,
   "id": "dbe71467-de46-4f5e-a09d-a732176121fe",
   "metadata": {},
   "outputs": [
    {
     "name": "stdout",
     "output_type": "stream",
     "text": [
      "Snow Festival Ticket: 45.0\n"
     ]
    }
   ],
   "source": [
    "print(f\"{last_product['title']}: {last_product['price']}\")"
   ]
  },
  {
   "cell_type": "code",
   "execution_count": 6,
   "id": "f9bda182-42f0-42f3-a783-64533f0c8267",
   "metadata": {},
   "outputs": [
    {
     "name": "stdout",
     "output_type": "stream",
     "text": [
      "Summit Seeker Day Pass\n",
      "Ice Fishing Experience\n",
      "Gourmet Mountain Dinner\n"
     ]
    }
   ],
   "source": [
    "# Combine the features for last_product and each product in products\n",
    "last_product_text = create_product_text(last_product)\n",
    "product_texts = [create_product_text(product) for product in products if product != last_product]\n",
    "\n",
    "# Embed last_product_text and product_texts\n",
    "last_product_embeddings = create_embeddings(last_product_text)[0]\n",
    "product_embeddings = create_embeddings(product_texts)\n",
    "\n",
    "# Find the three smallest cosine distances and their indexes\n",
    "hits = find_n_closest(last_product_embeddings, product_embeddings)\n",
    "\n",
    "for hit in hits:\n",
    "  product = products[hit['index']]\n",
    "  print(product['title'])"
   ]
  }
 ],
 "metadata": {
  "kernelspec": {
   "display_name": "Python 3 (ipykernel)",
   "language": "python",
   "name": "python3"
  },
  "language_info": {
   "codemirror_mode": {
    "name": "ipython",
    "version": 3
   },
   "file_extension": ".py",
   "mimetype": "text/x-python",
   "name": "python",
   "nbconvert_exporter": "python",
   "pygments_lexer": "ipython3",
   "version": "3.11.3"
  }
 },
 "nbformat": 4,
 "nbformat_minor": 5
}
