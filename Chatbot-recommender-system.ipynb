{
 "cells": [
  {
   "cell_type": "code",
   "execution_count": 2,
   "id": "2180162e-7517-4dff-a080-604c419b8b62",
   "metadata": {},
   "outputs": [
    {
     "name": "stdout",
     "output_type": "stream",
     "text": [
      "Running on local URL:  http://127.0.0.1:7877\n",
      "\n",
      "Thanks for being a Gradio user! If you have questions or feedback, please join our Discord server and chat with us: https://discord.gg/feTf9x3ZSB\n",
      "\n",
      "To create a public link, set `share=True` in `launch()`.\n"
     ]
    },
    {
     "data": {
      "text/html": [
       "<div><iframe src=\"http://127.0.0.1:7877/\" width=\"100%\" height=\"500\" allow=\"autoplay; camera; microphone; clipboard-read; clipboard-write;\" frameborder=\"0\" allowfullscreen></iframe></div>"
      ],
      "text/plain": [
       "<IPython.core.display.HTML object>"
      ]
     },
     "metadata": {},
     "output_type": "display_data"
    },
    {
     "data": {
      "text/plain": []
     },
     "execution_count": 2,
     "metadata": {},
     "output_type": "execute_result"
    }
   ],
   "source": [
    "import os\n",
    "from openai import OpenAI\n",
    "import numpy as np\n",
    "from scipy.spatial import distance\n",
    "import gradio as gr\n",
    "from functions import create_embeddings, find_n_closest, create_product_text, recommend_products_chatbot\n",
    "from products import products  # List of all products\n",
    "\n",
    "client = OpenAI(api_key=os.environ[\"OPENAI\"])\n",
    "\n",
    "# Initialize user history\n",
    "user_history = []\n",
    "\n",
    "# Define the chatbot response function\n",
    "def chatbot_respond(message, chat_history):\n",
    "    global user_history\n",
    "    user_history.append({\"title\": message, \"short_description\": \"\", \"category\": \"\", \"features\": []})\n",
    "    recommendations = recommend_products_chatbot(user_history, products)\n",
    "    \n",
    "    if recommendations is None:\n",
    "        recommendations = []\n",
    "    \n",
    "    response = \"Recommended Products:\\n\" + \"\\n\".join([f\"Product: {title}, Distance: {dist:.2f}\" for title, dist in recommendations])\n",
    "    \n",
    "    # Append messages as tuples\n",
    "    chat_history.append((message, response))\n",
    "    \n",
    "    return \"\", chat_history\n",
    "\n",
    "# Create the Gradio interface\n",
    "with gr.Blocks() as demo:\n",
    "    chatbot = gr.Chatbot()\n",
    "    msg = gr.Textbox(placeholder=\"Type the product title here...\")\n",
    "    clear = gr.Button(\"Clear\")\n",
    "\n",
    "    msg.submit(chatbot_respond, [msg, chatbot], [msg, chatbot])\n",
    "    clear.click(lambda: None, None, chatbot, queue=False)\n",
    "\n",
    "# Launch the interface\n",
    "demo.launch()"
   ]
  }
 ],
 "metadata": {
  "kernelspec": {
   "display_name": "Python 3 (ipykernel)",
   "language": "python",
   "name": "python3"
  },
  "language_info": {
   "codemirror_mode": {
    "name": "ipython",
    "version": 3
   },
   "file_extension": ".py",
   "mimetype": "text/x-python",
   "name": "python",
   "nbconvert_exporter": "python",
   "pygments_lexer": "ipython3",
   "version": "3.11.3"
  }
 },
 "nbformat": 4,
 "nbformat_minor": 5
}
